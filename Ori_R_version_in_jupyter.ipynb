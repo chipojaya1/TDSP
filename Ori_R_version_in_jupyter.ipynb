{
  "nbformat": 4,
  "nbformat_minor": 0,
  "metadata": {
    "colab": {
      "provenance": [],
      "authorship_tag": "ABX9TyP3kVBXvpGtg4dXpp4lfyXJ",
      "include_colab_link": true
    },
    "kernelspec": {
      "name": "python3",
      "display_name": "Python 3"
    },
    "language_info": {
      "name": "python"
    }
  },
  "cells": [
    {
      "cell_type": "markdown",
      "metadata": {
        "id": "view-in-github",
        "colab_type": "text"
      },
      "source": [
        "<a href=\"https://colab.research.google.com/github/chipojaya1/myNEBDHub/blob/main/Ori_R_version_in_jupyter.ipynb\" target=\"_parent\"><img src=\"https://colab.research.google.com/assets/colab-badge.svg\" alt=\"Open In Colab\"/></a>"
      ]
    },
    {
      "cell_type": "code",
      "execution_count": 1,
      "metadata": {
        "colab": {
          "base_uri": "https://localhost:8080/"
        },
        "id": "kZXO90ZilOBx",
        "outputId": "1bdc24c4-2337-4cbe-b964-4bbeb3450260"
      },
      "outputs": [
        {
          "output_type": "stream",
          "name": "stdout",
          "text": [
            "Reading package lists... Done\n",
            "Building dependency tree... Done\n",
            "Reading state information... Done\n",
            "r-base is already the newest version (4.5.0-3.2204.0).\n",
            "0 upgraded, 0 newly installed, 0 to remove and 35 not upgraded.\n"
          ]
        }
      ],
      "source": [
        "!apt-get install r-base"
      ]
    },
    {
      "cell_type": "code",
      "source": [
        "%load_ext rpy2.ipython"
      ],
      "metadata": {
        "id": "XgXzJH4slQwU"
      },
      "execution_count": 2,
      "outputs": []
    },
    {
      "cell_type": "code",
      "source": [
        "%%R\n",
        "print(\"Hello, R!\")"
      ],
      "metadata": {
        "colab": {
          "base_uri": "https://localhost:8080/"
        },
        "id": "ikiqYLgIliJH",
        "outputId": "20a370aa-2521-4f96-97dc-7b6478a5a90f"
      },
      "execution_count": 3,
      "outputs": [
        {
          "output_type": "stream",
          "name": "stdout",
          "text": [
            "[1] \"Hello, R!\"\n"
          ]
        }
      ]
    },
    {
      "cell_type": "code",
      "source": [
        "%%R\n",
        "# Import libraries\n",
        "library(tools)\n",
        "library(dplyr)\n",
        "library(tidyverse)\n",
        "library(ggplot2)"
      ],
      "metadata": {
        "colab": {
          "base_uri": "https://localhost:8080/",
          "height": 364
        },
        "id": "DNtFXP9kllgH",
        "outputId": "1bc15e70-8eac-4369-f3c2-7da3d2d82f0b"
      },
      "execution_count": 4,
      "outputs": [
        {
          "output_type": "stream",
          "name": "stdout",
          "text": [
            "── Attaching core tidyverse packages ──────────────────────── tidyverse 2.0.0 ──\n",
            "✔ forcats   1.0.0     ✔ readr     2.1.5\n",
            "✔ ggplot2   3.5.2     ✔ stringr   1.5.1\n",
            "✔ lubridate 1.9.4     ✔ tibble    3.3.0\n",
            "✔ purrr     1.0.4     ✔ tidyr     1.3.1\n",
            "── Conflicts ────────────────────────────────────────── tidyverse_conflicts() ──\n",
            "✖ dplyr::filter() masks stats::filter()\n",
            "✖ dplyr::lag()    masks stats::lag()\n",
            "ℹ Use the conflicted package (<http://conflicted.r-lib.org/>) to force all conflicts to become errors\n"
          ]
        },
        {
          "output_type": "display_data",
          "data": {
            "text/plain": [
              "\n",
              "Attaching package: ‘dplyr’\n",
              "\n",
              "The following objects are masked from ‘package:stats’:\n",
              "\n",
              "    filter, lag\n",
              "\n",
              "The following objects are masked from ‘package:base’:\n",
              "\n",
              "    intersect, setdiff, setequal, union\n",
              "\n"
            ]
          },
          "metadata": {}
        }
      ]
    },
    {
      "cell_type": "code",
      "source": [
        "%%R\n",
        "# Import data sources\n",
        "df_global <- read.csv(\"/content/OxCGRT_compact_national_v1.csv\")\n",
        "df_usa <- read.csv(\"/content/OxCGRT_compact_subnational_v1.csv\")"
      ],
      "metadata": {
        "id": "g1m_uwyRo2yU"
      },
      "execution_count": 5,
      "outputs": []
    },
    {
      "cell_type": "code",
      "source": [
        "%%R\n",
        "# Convert \"Date\" to date-time format\n",
        "df_global$Date <- as.Date(as.character(df_global$Date), format = \"%Y%m%d\")\n",
        "df_usa$Date <- as.Date(as.character(df_usa$Date), format = \"%Y%m%d\")"
      ],
      "metadata": {
        "id": "Pc-FiUj9o2vD"
      },
      "execution_count": 6,
      "outputs": []
    },
    {
      "cell_type": "code",
      "source": [
        "%%R\n",
        "# list columns\n",
        "colnames(df_global)"
      ],
      "metadata": {
        "colab": {
          "base_uri": "https://localhost:8080/"
        },
        "id": "66phnLO_o2mZ",
        "outputId": "7d6068a0-dfad-4894-e8f1-b49466342607"
      },
      "execution_count": 7,
      "outputs": [
        {
          "output_type": "stream",
          "name": "stdout",
          "text": [
            " [1] \"CountryName\"                                                                    \n",
            " [2] \"CountryCode\"                                                                    \n",
            " [3] \"RegionName\"                                                                     \n",
            " [4] \"RegionCode\"                                                                     \n",
            " [5] \"Jurisdiction\"                                                                   \n",
            " [6] \"Date\"                                                                           \n",
            " [7] \"C1M_School.closing\"                                                             \n",
            " [8] \"C1M_Flag\"                                                                       \n",
            " [9] \"C2M_Workplace.closing\"                                                          \n",
            "[10] \"C2M_Flag\"                                                                       \n",
            "[11] \"C3M_Cancel.public.events\"                                                       \n",
            "[12] \"C3M_Flag\"                                                                       \n",
            "[13] \"C4M_Restrictions.on.gatherings\"                                                 \n",
            "[14] \"C4M_Flag\"                                                                       \n",
            "[15] \"C5M_Close.public.transport\"                                                     \n",
            "[16] \"C5M_Flag\"                                                                       \n",
            "[17] \"C6M_Stay.at.home.requirements\"                                                  \n",
            "[18] \"C6M_Flag\"                                                                       \n",
            "[19] \"C7M_Restrictions.on.internal.movement\"                                          \n",
            "[20] \"C7M_Flag\"                                                                       \n",
            "[21] \"C8EV_International.travel.controls\"                                             \n",
            "[22] \"E1_Income.support\"                                                              \n",
            "[23] \"E1_Flag\"                                                                        \n",
            "[24] \"E2_Debt.contract.relief\"                                                        \n",
            "[25] \"E3_Fiscal.measures\"                                                             \n",
            "[26] \"E4_International.support\"                                                       \n",
            "[27] \"H1_Public.information.campaigns\"                                                \n",
            "[28] \"H1_Flag\"                                                                        \n",
            "[29] \"H2_Testing.policy\"                                                              \n",
            "[30] \"H3_Contact.tracing\"                                                             \n",
            "[31] \"H4_Emergency.investment.in.healthcare\"                                          \n",
            "[32] \"H5_Investment.in.vaccines\"                                                      \n",
            "[33] \"H6M_Facial.Coverings\"                                                           \n",
            "[34] \"H6M_Flag\"                                                                       \n",
            "[35] \"H7_Vaccination.policy\"                                                          \n",
            "[36] \"H7_Flag\"                                                                        \n",
            "[37] \"H8M_Protection.of.elderly.people\"                                               \n",
            "[38] \"H8M_Flag\"                                                                       \n",
            "[39] \"V1_Vaccine.Prioritisation..summary.\"                                            \n",
            "[40] \"V2A_Vaccine.Availability..summary.\"                                             \n",
            "[41] \"V2B_Vaccine.age.eligibility.availability.age.floor..general.population.summary.\"\n",
            "[42] \"V2C_Vaccine.age.eligibility.availability.age.floor..at.risk.summary.\"           \n",
            "[43] \"V2D_Medically..clinically.vulnerable..Non.elderly.\"                             \n",
            "[44] \"V2E_Education\"                                                                  \n",
            "[45] \"V2F_Frontline.workers...non.healthcare.\"                                        \n",
            "[46] \"V2G_Frontline.workers...healthcare.\"                                            \n",
            "[47] \"V3_Vaccine.Financial.Support..summary.\"                                         \n",
            "[48] \"V4_Mandatory.Vaccination..summary.\"                                             \n",
            "[49] \"ConfirmedCases\"                                                                 \n",
            "[50] \"ConfirmedDeaths\"                                                                \n",
            "[51] \"MajorityVaccinated\"                                                             \n",
            "[52] \"PopulationVaccinated\"                                                           \n",
            "[53] \"StringencyIndex_Average\"                                                        \n",
            "[54] \"GovernmentResponseIndex_Average\"                                                \n",
            "[55] \"ContainmentHealthIndex_Average\"                                                 \n",
            "[56] \"EconomicSupportIndex\"                                                           \n"
          ]
        }
      ]
    },
    {
      "cell_type": "code",
      "source": [
        "%%R\n",
        "# show first few observations\n",
        "df_global[1:6,]"
      ],
      "metadata": {
        "colab": {
          "base_uri": "https://localhost:8080/"
        },
        "collapsed": true,
        "id": "8VTEgscJpZge",
        "outputId": "531423dd-991c-4c8e-c543-2f23875b55d0"
      },
      "execution_count": 8,
      "outputs": [
        {
          "output_type": "stream",
          "name": "stdout",
          "text": [
            "  CountryName CountryCode RegionName RegionCode Jurisdiction       Date\n",
            "1       Aruba         ABW         NA         NA    NAT_TOTAL 2020-01-01\n",
            "2       Aruba         ABW         NA         NA    NAT_TOTAL 2020-01-02\n",
            "3       Aruba         ABW         NA         NA    NAT_TOTAL 2020-01-03\n",
            "4       Aruba         ABW         NA         NA    NAT_TOTAL 2020-01-04\n",
            "5       Aruba         ABW         NA         NA    NAT_TOTAL 2020-01-05\n",
            "6       Aruba         ABW         NA         NA    NAT_TOTAL 2020-01-06\n",
            "  C1M_School.closing C1M_Flag C2M_Workplace.closing C2M_Flag\n",
            "1                  0       NA                     0       NA\n",
            "2                  0       NA                     0       NA\n",
            "3                  0       NA                     0       NA\n",
            "4                  0       NA                     0       NA\n",
            "5                  0       NA                     0       NA\n",
            "6                  0       NA                     0       NA\n",
            "  C3M_Cancel.public.events C3M_Flag C4M_Restrictions.on.gatherings C4M_Flag\n",
            "1                        0       NA                              0       NA\n",
            "2                        0       NA                              0       NA\n",
            "3                        0       NA                              0       NA\n",
            "4                        0       NA                              0       NA\n",
            "5                        0       NA                              0       NA\n",
            "6                        0       NA                              0       NA\n",
            "  C5M_Close.public.transport C5M_Flag C6M_Stay.at.home.requirements C6M_Flag\n",
            "1                          0       NA                             0       NA\n",
            "2                          0       NA                             0       NA\n",
            "3                          0       NA                             0       NA\n",
            "4                          0       NA                             0       NA\n",
            "5                          0       NA                             0       NA\n",
            "6                          0       NA                             0       NA\n",
            "  C7M_Restrictions.on.internal.movement C7M_Flag\n",
            "1                                     0       NA\n",
            "2                                     0       NA\n",
            "3                                     0       NA\n",
            "4                                     0       NA\n",
            "5                                     0       NA\n",
            "6                                     0       NA\n",
            "  C8EV_International.travel.controls E1_Income.support E1_Flag\n",
            "1                                  0                 0      NA\n",
            "2                                  0                 0      NA\n",
            "3                                  0                 0      NA\n",
            "4                                  0                 0      NA\n",
            "5                                  0                 0      NA\n",
            "6                                  0                 0      NA\n",
            "  E2_Debt.contract.relief E3_Fiscal.measures E4_International.support\n",
            "1                       0                  0                        0\n",
            "2                       0                  0                        0\n",
            "3                       0                  0                        0\n",
            "4                       0                  0                        0\n",
            "5                       0                  0                        0\n",
            "6                       0                  0                        0\n",
            "  H1_Public.information.campaigns H1_Flag H2_Testing.policy H3_Contact.tracing\n",
            "1                               0      NA                 0                  0\n",
            "2                               0      NA                 0                  0\n",
            "3                               0      NA                 0                  0\n",
            "4                               0      NA                 0                  0\n",
            "5                               0      NA                 0                  0\n",
            "6                               0      NA                 0                  0\n",
            "  H4_Emergency.investment.in.healthcare H5_Investment.in.vaccines\n",
            "1                                     0                         0\n",
            "2                                     0                         0\n",
            "3                                     0                         0\n",
            "4                                     0                         0\n",
            "5                                     0                         0\n",
            "6                                     0                         0\n",
            "  H6M_Facial.Coverings H6M_Flag H7_Vaccination.policy H7_Flag\n",
            "1                    0       NA                     0      NA\n",
            "2                    0       NA                     0      NA\n",
            "3                    0       NA                     0      NA\n",
            "4                    0       NA                     0      NA\n",
            "5                    0       NA                     0      NA\n",
            "6                    0       NA                     0      NA\n",
            "  H8M_Protection.of.elderly.people H8M_Flag V1_Vaccine.Prioritisation..summary.\n",
            "1                                0       NA                                   0\n",
            "2                                0       NA                                   0\n",
            "3                                0       NA                                   0\n",
            "4                                0       NA                                   0\n",
            "5                                0       NA                                   0\n",
            "6                                0       NA                                   0\n",
            "  V2A_Vaccine.Availability..summary.\n",
            "1                                  0\n",
            "2                                  0\n",
            "3                                  0\n",
            "4                                  0\n",
            "5                                  0\n",
            "6                                  0\n",
            "  V2B_Vaccine.age.eligibility.availability.age.floor..general.population.summary.\n",
            "1                                                                                \n",
            "2                                                                                \n",
            "3                                                                                \n",
            "4                                                                                \n",
            "5                                                                                \n",
            "6                                                                                \n",
            "  V2C_Vaccine.age.eligibility.availability.age.floor..at.risk.summary.\n",
            "1                                                                     \n",
            "2                                                                     \n",
            "3                                                                     \n",
            "4                                                                     \n",
            "5                                                                     \n",
            "6                                                                     \n",
            "  V2D_Medically..clinically.vulnerable..Non.elderly. V2E_Education\n",
            "1                                                 NA            NA\n",
            "2                                                 NA            NA\n",
            "3                                                 NA            NA\n",
            "4                                                 NA            NA\n",
            "5                                                 NA            NA\n",
            "6                                                 NA            NA\n",
            "  V2F_Frontline.workers...non.healthcare. V2G_Frontline.workers...healthcare.\n",
            "1                                      NA                                  NA\n",
            "2                                      NA                                  NA\n",
            "3                                      NA                                  NA\n",
            "4                                      NA                                  NA\n",
            "5                                      NA                                  NA\n",
            "6                                      NA                                  NA\n",
            "  V3_Vaccine.Financial.Support..summary. V4_Mandatory.Vaccination..summary.\n",
            "1                                      0                                 NA\n",
            "2                                      0                                 NA\n",
            "3                                      0                                 NA\n",
            "4                                      0                                 NA\n",
            "5                                      0                                 NA\n",
            "6                                      0                                 NA\n",
            "  ConfirmedCases ConfirmedDeaths MajorityVaccinated PopulationVaccinated\n",
            "1              0               0                 NV                    0\n",
            "2              0               0                 NV                    0\n",
            "3              0               0                 NV                    0\n",
            "4              0               0                 NV                    0\n",
            "5              0               0                 NV                    0\n",
            "6              0               0                 NV                    0\n",
            "  StringencyIndex_Average GovernmentResponseIndex_Average\n",
            "1                       0                               0\n",
            "2                       0                               0\n",
            "3                       0                               0\n",
            "4                       0                               0\n",
            "5                       0                               0\n",
            "6                       0                               0\n",
            "  ContainmentHealthIndex_Average EconomicSupportIndex\n",
            "1                              0                    0\n",
            "2                              0                    0\n",
            "3                              0                    0\n",
            "4                              0                    0\n",
            "5                              0                    0\n",
            "6                              0                    0\n"
          ]
        }
      ]
    },
    {
      "cell_type": "code",
      "source": [
        "%%R\n",
        "# What \"jurisdictions\" do we have?\n",
        "unique(df_global$Jurisdiction)\n",
        "\n",
        "## It looks like none of the policies are divided into subnational levels in this dataset!"
      ],
      "metadata": {
        "colab": {
          "base_uri": "https://localhost:8080/"
        },
        "id": "OCDa3zU3qvu5",
        "outputId": "5e5997a2-010a-44f9-fd2e-f55854c3b06f"
      },
      "execution_count": 9,
      "outputs": [
        {
          "output_type": "stream",
          "name": "stdout",
          "text": [
            "[1] \"NAT_TOTAL\"\n"
          ]
        }
      ]
    },
    {
      "cell_type": "code",
      "source": [
        "%%R\n",
        "# What countries are represented in the global data?\n",
        "unique(df_global$CountryName)"
      ],
      "metadata": {
        "colab": {
          "base_uri": "https://localhost:8080/"
        },
        "id": "AUGZ-b_0txCX",
        "outputId": "0b06aa28-03b3-4456-9346-55d8b9358c3a"
      },
      "execution_count": 15,
      "outputs": [
        {
          "output_type": "stream",
          "name": "stdout",
          "text": [
            "  [1] \"Aruba\"                        \"Afghanistan\"                 \n",
            "  [3] \"Angola\"                       \"Albania\"                     \n",
            "  [5] \"Andorra\"                      \"United Arab Emirates\"        \n",
            "  [7] \"Argentina\"                    \"Australia\"                   \n",
            "  [9] \"Austria\"                      \"Azerbaijan\"                  \n",
            " [11] \"Burundi\"                      \"Belgium\"                     \n",
            " [13] \"Benin\"                        \"Burkina Faso\"                \n",
            " [15] \"Bangladesh\"                   \"Bulgaria\"                    \n",
            " [17] \"Bahrain\"                      \"Bahamas\"                     \n",
            " [19] \"Bosnia and Herzegovina\"       \"Belarus\"                     \n",
            " [21] \"Belize\"                       \"Bermuda\"                     \n",
            " [23] \"Bolivia\"                      \"Brazil\"                      \n",
            " [25] \"Barbados\"                     \"Brunei\"                      \n",
            " [27] \"Bhutan\"                       \"Botswana\"                    \n",
            " [29] \"Central African Republic\"     \"Canada\"                      \n",
            " [31] \"Switzerland\"                  \"Chile\"                       \n",
            " [33] \"China\"                        \"Cote d'Ivoire\"               \n",
            " [35] \"Cameroon\"                     \"Democratic Republic of Congo\"\n",
            " [37] \"Congo\"                        \"Colombia\"                    \n",
            " [39] \"Cape Verde\"                   \"Costa Rica\"                  \n",
            " [41] \"Cuba\"                         \"Cyprus\"                      \n",
            " [43] \"Czech Republic\"               \"Germany\"                     \n",
            " [45] \"Djibouti\"                     \"Dominica\"                    \n",
            " [47] \"Denmark\"                      \"Dominican Republic\"          \n",
            " [49] \"Algeria\"                      \"Ecuador\"                     \n",
            " [51] \"Egypt\"                        \"Eritrea\"                     \n",
            " [53] \"Spain\"                        \"Estonia\"                     \n",
            " [55] \"Ethiopia\"                     \"Finland\"                     \n",
            " [57] \"Fiji\"                         \"France\"                      \n",
            " [59] \"Faeroe Islands\"               \"Gabon\"                       \n",
            " [61] \"United Kingdom\"               \"Georgia\"                     \n",
            " [63] \"Ghana\"                        \"Guinea\"                      \n",
            " [65] \"Gambia\"                       \"Greece\"                      \n",
            " [67] \"Greenland\"                    \"Guatemala\"                   \n",
            " [69] \"Guam\"                         \"Guyana\"                      \n",
            " [71] \"Hong Kong\"                    \"Honduras\"                    \n",
            " [73] \"Croatia\"                      \"Haiti\"                       \n",
            " [75] \"Hungary\"                      \"Indonesia\"                   \n",
            " [77] \"India\"                        \"Ireland\"                     \n",
            " [79] \"Iran\"                         \"Iraq\"                        \n",
            " [81] \"Iceland\"                      \"Israel\"                      \n",
            " [83] \"Italy\"                        \"Jamaica\"                     \n",
            " [85] \"Jordan\"                       \"Japan\"                       \n",
            " [87] \"Kazakhstan\"                   \"Kenya\"                       \n",
            " [89] \"Kyrgyz Republic\"              \"Cambodia\"                    \n",
            " [91] \"Kiribati\"                     \"South Korea\"                 \n",
            " [93] \"Kuwait\"                       \"Laos\"                        \n",
            " [95] \"Lebanon\"                      \"Liberia\"                     \n",
            " [97] \"Libya\"                        \"Liechtenstein\"               \n",
            " [99] \"Sri Lanka\"                    \"Lesotho\"                     \n",
            "[101] \"Lithuania\"                    \"Luxembourg\"                  \n",
            "[103] \"Latvia\"                       \"Macao\"                       \n",
            "[105] \"Morocco\"                      \"Monaco\"                      \n",
            "[107] \"Moldova\"                      \"Madagascar\"                  \n",
            "[109] \"Mexico\"                       \"Mali\"                        \n",
            "[111] \"Malta\"                        \"Myanmar\"                     \n",
            "[113] \"Mongolia\"                     \"Mozambique\"                  \n",
            "[115] \"Mauritania\"                   \"Mauritius\"                   \n",
            "[117] \"Malawi\"                       \"Malaysia\"                    \n",
            "[119] \"Namibia\"                      \"Niger\"                       \n",
            "[121] \"Nigeria\"                      \"Nicaragua\"                   \n",
            "[123] \"Netherlands\"                  \"Norway\"                      \n",
            "[125] \"Nepal\"                        \"New Zealand\"                 \n",
            "[127] \"Oman\"                         \"Pakistan\"                    \n",
            "[129] \"Panama\"                       \"Peru\"                        \n",
            "[131] \"Philippines\"                  \"Papua New Guinea\"            \n",
            "[133] \"Poland\"                       \"Puerto Rico\"                 \n",
            "[135] \"Portugal\"                     \"Paraguay\"                    \n",
            "[137] \"Palestine\"                    \"Qatar\"                       \n",
            "[139] \"Kosovo\"                       \"Romania\"                     \n",
            "[141] \"Russia\"                       \"Rwanda\"                      \n",
            "[143] \"Saudi Arabia\"                 \"Sudan\"                       \n",
            "[145] \"Senegal\"                      \"Singapore\"                   \n",
            "[147] \"Solomon Islands\"              \"Sierra Leone\"                \n",
            "[149] \"El Salvador\"                  \"San Marino\"                  \n",
            "[151] \"Somalia\"                      \"Serbia\"                      \n",
            "[153] \"South Sudan\"                  \"Suriname\"                    \n",
            "[155] \"Slovak Republic\"              \"Slovenia\"                    \n",
            "[157] \"Sweden\"                       \"Eswatini\"                    \n",
            "[159] \"Seychelles\"                   \"Syria\"                       \n",
            "[161] \"Chad\"                         \"Togo\"                        \n",
            "[163] \"Thailand\"                     \"Tajikistan\"                  \n",
            "[165] \"Turkmenistan\"                 \"Timor-Leste\"                 \n",
            "[167] \"Tonga\"                        \"Trinidad and Tobago\"         \n",
            "[169] \"Tunisia\"                      \"Turkey\"                      \n",
            "[171] \"Taiwan\"                       \"Tanzania\"                    \n",
            "[173] \"Uganda\"                       \"Ukraine\"                     \n",
            "[175] \"Uruguay\"                      \"United States\"               \n",
            "[177] \"Uzbekistan\"                   \"Venezuela\"                   \n",
            "[179] \"United States Virgin Islands\" \"Vietnam\"                     \n",
            "[181] \"Vanuatu\"                      \"Yemen\"                       \n",
            "[183] \"South Africa\"                 \"Zambia\"                      \n",
            "[185] \"Zimbabwe\"                    \n"
          ]
        }
      ]
    },
    {
      "cell_type": "code",
      "source": [
        "%%R\n",
        "# Total number of confirmed cases in USA over time\n",
        "usa_cases <- ggplot(data=filter(df_global, CountryName==\"United States\"), aes(x=Date, y=ConfirmedCases)) +\n",
        "  geom_line()\n",
        "usa_cases"
      ],
      "metadata": {
        "colab": {
          "base_uri": "https://localhost:8080/",
          "height": 497
        },
        "id": "xKK2NiB6upCZ",
        "outputId": "8019741c-1920-4f68-f16c-e7fb69bd11c7"
      },
      "execution_count": 19,
      "outputs": [
        {
          "output_type": "display_data",
          "data": {
            "image/png": "[encoded data removed]",
            "text/plain": [
              "<IPython.core.display.Image object>"
            ]
          },
          "metadata": {}
        }
      ]
    },
    {
      "cell_type": "code",
      "source": [
        "%%R\n",
        "# Total number of covid deaths in America overtime\n",
        "usa_deaths <- ggplot(data=filter(df_global, CountryName==\"United States\"), aes(x=Date, y=ConfirmedDeaths)) +\n",
        "  geom_line()\n",
        "usa_deaths"
      ],
      "metadata": {
        "colab": {
          "base_uri": "https://localhost:8080/",
          "height": 497
        },
        "id": "shyqyOIYvWoW",
        "outputId": "e9ee119f-3d59-4e0a-cfe2-ec69237bbc14"
      },
      "execution_count": 23,
      "outputs": [
        {
          "output_type": "display_data",
          "data": {
            "image/png": "[encoded data removed]",
            "text/plain": [
              "<IPython.core.display.Image object>"
            ]
          },
          "metadata": {}
        }
      ]
    },
    {
      "cell_type": "code",
      "source": [
        "%%R\n",
        "# Total number of confirmed cases in Japan over time\n",
        "japan_cases <- ggplot(data=filter(df_global, CountryName==\"Japan\"), aes(x=Date, y=ConfirmedCases)) +\n",
        "  geom_line()\n",
        "japan_cases"
      ],
      "metadata": {
        "colab": {
          "base_uri": "https://localhost:8080/",
          "height": 497
        },
        "id": "CzBYjyA6qveR",
        "outputId": "5d1e15bc-7790-4ed8-a1dd-e90501b526f7"
      },
      "execution_count": 18,
      "outputs": [
        {
          "output_type": "display_data",
          "data": {
            "image/png": "[encoded data removed]",
            "text/plain": [
              "<IPython.core.display.Image object>"
            ]
          },
          "metadata": {}
        }
      ]
    },
    {
      "cell_type": "code",
      "source": [
        "%%R\n",
        "# Total number of covid deaths in Japan overtime\n",
        "japan_deaths <- ggplot(data=filter(df_global, CountryName==\"Japan\"), aes(x=Date, y=ConfirmedDeaths)) +\n",
        "  geom_line()\n",
        "japan_deaths"
      ],
      "metadata": {
        "colab": {
          "base_uri": "https://localhost:8080/",
          "height": 497
        },
        "id": "ETkMUKyuu-KY",
        "outputId": "35b2ab43-c207-4301-e9fa-b2629fd359dc"
      },
      "execution_count": 22,
      "outputs": [
        {
          "output_type": "display_data",
          "data": {
            "image/png": "[encoded data removed]",
            "text/plain": [
              "<IPython.core.display.Image object>"
            ]
          },
          "metadata": {}
        }
      ]
    },
    {
      "cell_type": "code",
      "source": [
        "%%R\n",
        "### USA Data columns\n",
        "colnames(df_usa)"
      ],
      "metadata": {
        "colab": {
          "base_uri": "https://localhost:8080/"
        },
        "collapsed": true,
        "id": "izZqu6aAqvsH",
        "outputId": "a4d6241b-8ff7-433a-ef02-6319b8782f33"
      },
      "execution_count": 11,
      "outputs": [
        {
          "output_type": "stream",
          "name": "stdout",
          "text": [
            " [1] \"CountryName\"                                                                    \n",
            " [2] \"CountryCode\"                                                                    \n",
            " [3] \"RegionName\"                                                                     \n",
            " [4] \"RegionCode\"                                                                     \n",
            " [5] \"CityName\"                                                                       \n",
            " [6] \"CityCode\"                                                                       \n",
            " [7] \"Jurisdiction\"                                                                   \n",
            " [8] \"Date\"                                                                           \n",
            " [9] \"C1M_School.closing\"                                                             \n",
            "[10] \"C1M_Flag\"                                                                       \n",
            "[11] \"C2M_Workplace.closing\"                                                          \n",
            "[12] \"C2M_Flag\"                                                                       \n",
            "[13] \"C3M_Cancel.public.events\"                                                       \n",
            "[14] \"C3M_Flag\"                                                                       \n",
            "[15] \"C4M_Restrictions.on.gatherings\"                                                 \n",
            "[16] \"C4M_Flag\"                                                                       \n",
            "[17] \"C5M_Close.public.transport\"                                                     \n",
            "[18] \"C5M_Flag\"                                                                       \n",
            "[19] \"C6M_Stay.at.home.requirements\"                                                  \n",
            "[20] \"C6M_Flag\"                                                                       \n",
            "[21] \"C7M_Restrictions.on.internal.movement\"                                          \n",
            "[22] \"C7M_Flag\"                                                                       \n",
            "[23] \"C8EV_International.travel.controls\"                                             \n",
            "[24] \"E1_Income.support\"                                                              \n",
            "[25] \"E1_Flag\"                                                                        \n",
            "[26] \"E2_Debt.contract.relief\"                                                        \n",
            "[27] \"E3_Fiscal.measures\"                                                             \n",
            "[28] \"E4_International.support\"                                                       \n",
            "[29] \"H1_Public.information.campaigns\"                                                \n",
            "[30] \"H1_Flag\"                                                                        \n",
            "[31] \"H2_Testing.policy\"                                                              \n",
            "[32] \"H3_Contact.tracing\"                                                             \n",
            "[33] \"H4_Emergency.investment.in.healthcare\"                                          \n",
            "[34] \"H5_Investment.in.vaccines\"                                                      \n",
            "[35] \"H6M_Facial.Coverings\"                                                           \n",
            "[36] \"H6M_Flag\"                                                                       \n",
            "[37] \"H7_Vaccination.policy\"                                                          \n",
            "[38] \"H7_Flag\"                                                                        \n",
            "[39] \"H8M_Protection.of.elderly.people\"                                               \n",
            "[40] \"H8M_Flag\"                                                                       \n",
            "[41] \"V1_Vaccine.Prioritisation..summary.\"                                            \n",
            "[42] \"V2A_Vaccine.Availability..summary.\"                                             \n",
            "[43] \"V2B_Vaccine.age.eligibility.availability.age.floor..general.population.summary.\"\n",
            "[44] \"V2C_Vaccine.age.eligibility.availability.age.floor..at.risk.summary.\"           \n",
            "[45] \"V2D_Medically..clinically.vulnerable..Non.elderly.\"                             \n",
            "[46] \"V2E_Education\"                                                                  \n",
            "[47] \"V2F_Frontline.workers...non.healthcare.\"                                        \n",
            "[48] \"V2G_Frontline.workers...healthcare.\"                                            \n",
            "[49] \"V3_Vaccine.Financial.Support..summary.\"                                         \n",
            "[50] \"V4_Mandatory.Vaccination..summary.\"                                             \n",
            "[51] \"ConfirmedCases\"                                                                 \n",
            "[52] \"ConfirmedDeaths\"                                                                \n",
            "[53] \"MajorityVaccinated\"                                                             \n",
            "[54] \"PopulationVaccinated\"                                                           \n",
            "[55] \"StringencyIndex_Average\"                                                        \n",
            "[56] \"GovernmentResponseIndex_Average\"                                                \n",
            "[57] \"ContainmentHealthIndex_Average\"                                                 \n",
            "[58] \"EconomicSupportIndex\"                                                           \n"
          ]
        }
      ]
    },
    {
      "cell_type": "code",
      "source": [
        "%%R\n",
        "# Show some example rows\n",
        "df_usa[1:6,]"
      ],
      "metadata": {
        "colab": {
          "base_uri": "https://localhost:8080/"
        },
        "id": "BJ-fA_QqsOb_",
        "outputId": "7ecb1969-de8a-49d9-f8bb-de4588de4b82"
      },
      "execution_count": 12,
      "outputs": [
        {
          "output_type": "stream",
          "name": "stdout",
          "text": [
            "  CountryName CountryCode RegionName RegionCode CityName CityCode Jurisdiction\n",
            "1   Australia         AUS                                            NAT_TOTAL\n",
            "2   Australia         AUS                                            NAT_TOTAL\n",
            "3   Australia         AUS                                            NAT_TOTAL\n",
            "4   Australia         AUS                                            NAT_TOTAL\n",
            "5   Australia         AUS                                            NAT_TOTAL\n",
            "6   Australia         AUS                                            NAT_TOTAL\n",
            "        Date C1M_School.closing C1M_Flag C2M_Workplace.closing C2M_Flag\n",
            "1 2020-01-01                  0       NA                     0       NA\n",
            "2 2020-01-02                  0       NA                     0       NA\n",
            "3 2020-01-03                  0       NA                     0       NA\n",
            "4 2020-01-04                  0       NA                     0       NA\n",
            "5 2020-01-05                  0       NA                     0       NA\n",
            "6 2020-01-06                  0       NA                     0       NA\n",
            "  C3M_Cancel.public.events C3M_Flag C4M_Restrictions.on.gatherings C4M_Flag\n",
            "1                        0       NA                              0       NA\n",
            "2                        0       NA                              0       NA\n",
            "3                        0       NA                              0       NA\n",
            "4                        0       NA                              0       NA\n",
            "5                        0       NA                              0       NA\n",
            "6                        0       NA                              0       NA\n",
            "  C5M_Close.public.transport C5M_Flag C6M_Stay.at.home.requirements C6M_Flag\n",
            "1                          0       NA                             0       NA\n",
            "2                          0       NA                             0       NA\n",
            "3                          0       NA                             0       NA\n",
            "4                          0       NA                             0       NA\n",
            "5                          0       NA                             0       NA\n",
            "6                          0       NA                             0       NA\n",
            "  C7M_Restrictions.on.internal.movement C7M_Flag\n",
            "1                                     0       NA\n",
            "2                                     0       NA\n",
            "3                                     0       NA\n",
            "4                                     0       NA\n",
            "5                                     0       NA\n",
            "6                                     0       NA\n",
            "  C8EV_International.travel.controls E1_Income.support E1_Flag\n",
            "1                                  0                 0      NA\n",
            "2                                  0                 0      NA\n",
            "3                                  0                 0      NA\n",
            "4                                  0                 0      NA\n",
            "5                                  0                 0      NA\n",
            "6                                  0                 0      NA\n",
            "  E2_Debt.contract.relief E3_Fiscal.measures E4_International.support\n",
            "1                       0                  0                        0\n",
            "2                       0                  0                        0\n",
            "3                       0                  0                        0\n",
            "4                       0                  0                        0\n",
            "5                       0                  0                        0\n",
            "6                       0                  0                        0\n",
            "  H1_Public.information.campaigns H1_Flag H2_Testing.policy H3_Contact.tracing\n",
            "1                               0      NA                 0                  0\n",
            "2                               0      NA                 0                  0\n",
            "3                               0      NA                 0                  0\n",
            "4                               0      NA                 0                  0\n",
            "5                               0      NA                 0                  0\n",
            "6                               0      NA                 0                  0\n",
            "  H4_Emergency.investment.in.healthcare H5_Investment.in.vaccines\n",
            "1                                     0                         0\n",
            "2                                     0                         0\n",
            "3                                     0                         0\n",
            "4                                     0                         0\n",
            "5                                     0                         0\n",
            "6                                     0                         0\n",
            "  H6M_Facial.Coverings H6M_Flag H7_Vaccination.policy H7_Flag\n",
            "1                    0       NA                     0      NA\n",
            "2                    0       NA                     0      NA\n",
            "3                    0       NA                     0      NA\n",
            "4                    0       NA                     0      NA\n",
            "5                    0       NA                     0      NA\n",
            "6                    0       NA                     0      NA\n",
            "  H8M_Protection.of.elderly.people H8M_Flag V1_Vaccine.Prioritisation..summary.\n",
            "1                                0       NA                                   0\n",
            "2                                0       NA                                   0\n",
            "3                                0       NA                                   0\n",
            "4                                0       NA                                   0\n",
            "5                                0       NA                                   0\n",
            "6                                0       NA                                   0\n",
            "  V2A_Vaccine.Availability..summary.\n",
            "1                                  0\n",
            "2                                  0\n",
            "3                                  0\n",
            "4                                  0\n",
            "5                                  0\n",
            "6                                  0\n",
            "  V2B_Vaccine.age.eligibility.availability.age.floor..general.population.summary.\n",
            "1                                                                                \n",
            "2                                                                                \n",
            "3                                                                                \n",
            "4                                                                                \n",
            "5                                                                                \n",
            "6                                                                                \n",
            "  V2C_Vaccine.age.eligibility.availability.age.floor..at.risk.summary.\n",
            "1                                                                     \n",
            "2                                                                     \n",
            "3                                                                     \n",
            "4                                                                     \n",
            "5                                                                     \n",
            "6                                                                     \n",
            "  V2D_Medically..clinically.vulnerable..Non.elderly. V2E_Education\n",
            "1                                                 NA            NA\n",
            "2                                                 NA            NA\n",
            "3                                                 NA            NA\n",
            "4                                                 NA            NA\n",
            "5                                                 NA            NA\n",
            "6                                                 NA            NA\n",
            "  V2F_Frontline.workers...non.healthcare. V2G_Frontline.workers...healthcare.\n",
            "1                                      NA                                  NA\n",
            "2                                      NA                                  NA\n",
            "3                                      NA                                  NA\n",
            "4                                      NA                                  NA\n",
            "5                                      NA                                  NA\n",
            "6                                      NA                                  NA\n",
            "  V3_Vaccine.Financial.Support..summary. V4_Mandatory.Vaccination..summary.\n",
            "1                                      0                                 NA\n",
            "2                                      0                                 NA\n",
            "3                                      0                                 NA\n",
            "4                                      0                                 NA\n",
            "5                                      0                                 NA\n",
            "6                                      0                                 NA\n",
            "  ConfirmedCases ConfirmedDeaths MajorityVaccinated PopulationVaccinated\n",
            "1              0               0                 NV                    0\n",
            "2              0               0                 NV                    0\n",
            "3              0               0                 NV                    0\n",
            "4              0               0                 NV                    0\n",
            "5              0               0                 NV                    0\n",
            "6              0               0                 NV                    0\n",
            "  StringencyIndex_Average GovernmentResponseIndex_Average\n",
            "1                       0                               0\n",
            "2                       0                               0\n",
            "3                       0                               0\n",
            "4                       0                               0\n",
            "5                       0                               0\n",
            "6                       0                               0\n",
            "  ContainmentHealthIndex_Average EconomicSupportIndex\n",
            "1                              0                    0\n",
            "2                              0                    0\n",
            "3                              0                    0\n",
            "4                              0                    0\n",
            "5                              0                    0\n",
            "6                              0                    0\n"
          ]
        }
      ]
    },
    {
      "cell_type": "code",
      "source": [
        "%%R\n",
        "# Total number of covid cases in the USA over time\n",
        "usa_cases <- ggplot(data=filter(df_usa, CountryName==\"United States\"), aes(x=Date, y=ConfirmedCases)) +\n",
        "  geom_line()\n",
        "usa_cases\n",
        "\n",
        "\n"
      ],
      "metadata": {
        "colab": {
          "base_uri": "https://localhost:8080/",
          "height": 497
        },
        "id": "Lc9lyehRqvno",
        "outputId": "98cc9522-935c-40a1-a0a9-f61b4260ad4b"
      },
      "execution_count": 14,
      "outputs": [
        {
          "output_type": "display_data",
          "data": {
            "image/png": "[encoded data removed]",
            "text/plain": [
              "<IPython.core.display.Image object>"
            ]
          },
          "metadata": {}
        }
      ]
    }
  ]
}